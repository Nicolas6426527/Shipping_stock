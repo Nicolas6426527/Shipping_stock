{
 "cells": [
  {
   "cell_type": "code",
   "execution_count": 1,
   "metadata": {},
   "outputs": [],
   "source": [
    "import requests\n",
    "import pandas as pd\n",
    "import numpy as np\n",
    "import time\n",
    "from bs4 import BeautifulSoup\n",
    "import random\n",
    "import os\n",
    "import datetime\n"
   ]
  },
  {
   "cell_type": "code",
   "execution_count": 2,
   "metadata": {},
   "outputs": [],
   "source": [
    "stock ={\"陽明\":\"2609\",\"長榮\":\"2603\",\"萬海\":\"2615\",\"長榮航\":\"2618\",\"遠雄港\":\"5607\",\"華航\":\"2610\",\"台驊投控\":\"2636\",\"裕民\":\"2606\",\n",
    "        \"益航\":\"2601\" ,\"東森\":\"2614\",\"新興\":\"2605\" , \"四維航\":\"5608\" , \"台航\":\"2617\" }\n",
    "month_now =datetime.datetime.strftime(datetime.datetime.today() ,'%Y%m')+\"01\" #現在的月份，url所使用\n",
    "month_index = datetime.datetime.strftime(datetime.datetime.today() ,'%Y%m') #index使用\n",
    "url_PBR = [f\"https://www.twse.com.tw/exchangeReport/BWIBBU?response=html&date={month_now}&stockNo={code}\" for code in stock.values() ]\n"
   ]
  },
  {
   "cell_type": "code",
   "execution_count": 3,
   "metadata": {},
   "outputs": [],
   "source": [
    "#header\n",
    "headers ={\"user-agent\":\"Mozilla/5.0 (Macintosh; Intel Mac OS X 10_15_7) AppleWebKit/537.36 (KHTML, like Gecko) Chrome/90.0.4430.212 Safari/537.36\"}"
   ]
  },
  {
   "cell_type": "code",
   "execution_count": 4,
   "metadata": {},
   "outputs": [],
   "source": [
    "def get_text(url   ,headers ):\n",
    "    \"\"\"負責request的請求\n",
    "    傳入網址、header(避免反爬蟲機制)\"\"\"\n",
    "    r = requests.get(url, headers=headers )\n",
    "    res = r.text\n",
    "    soup=BeautifulSoup( res ,\"lxml\")\n",
    "    \n",
    "    return soup.table"
   ]
  },
  {
   "cell_type": "code",
   "execution_count": 5,
   "metadata": {},
   "outputs": [],
   "source": [
    "def get_value_PBR(data):\n",
    "    \"\"\"請傳入 rqquest.get(url).text\"\"\"\n",
    "    \n",
    "    \"\"\"return 資料為一個月的數值的 PBR 股價淨值比 \"\"\"\n",
    "    #使用BeautifulSoup 做解析\n",
    "    \n",
    "    df=pd.read_html(data.prettify())[0]\n",
    "    df.columns = df.columns.get_level_values(1)\n",
    "    PBR_end=np.median(df[\"股價淨值比\"].map(lambda x : float(x))) #找出當月股價淨值比的中位數\n",
    "\n",
    "    return   PBR_end"
   ]
  },
  {
   "cell_type": "code",
   "execution_count": 6,
   "metadata": {},
   "outputs": [
    {
     "name": "stdout",
     "output_type": "stream",
     "text": [
      "https://www.twse.com.tw/exchangeReport/BWIBBU?response=html&date=20210601&stockNo=2609\n",
      "https://www.twse.com.tw/exchangeReport/BWIBBU?response=html&date=20210601&stockNo=2603\n",
      "https://www.twse.com.tw/exchangeReport/BWIBBU?response=html&date=20210601&stockNo=2615\n",
      "https://www.twse.com.tw/exchangeReport/BWIBBU?response=html&date=20210601&stockNo=2618\n",
      "https://www.twse.com.tw/exchangeReport/BWIBBU?response=html&date=20210601&stockNo=5607\n",
      "https://www.twse.com.tw/exchangeReport/BWIBBU?response=html&date=20210601&stockNo=2610\n",
      "https://www.twse.com.tw/exchangeReport/BWIBBU?response=html&date=20210601&stockNo=2636\n",
      "https://www.twse.com.tw/exchangeReport/BWIBBU?response=html&date=20210601&stockNo=2606\n",
      "https://www.twse.com.tw/exchangeReport/BWIBBU?response=html&date=20210601&stockNo=2601\n",
      "https://www.twse.com.tw/exchangeReport/BWIBBU?response=html&date=20210601&stockNo=2614\n",
      "https://www.twse.com.tw/exchangeReport/BWIBBU?response=html&date=20210601&stockNo=2605\n",
      "https://www.twse.com.tw/exchangeReport/BWIBBU?response=html&date=20210601&stockNo=5608\n",
      "https://www.twse.com.tw/exchangeReport/BWIBBU?response=html&date=20210601&stockNo=2617\n"
     ]
    }
   ],
   "source": [
    "df_plus=[]\n",
    "for url_pbr  in url_PBR :\n",
    "    print(url_pbr)\n",
    "    data= get_text(url_pbr ,headers )\n",
    "    time.sleep(3)\n",
    "    while data is None:\n",
    "        data= get_text(url_pbr ,headers )\n",
    "        \n",
    "    PBR_end =get_value_PBR(data)\n",
    "\n",
    "    df=pd.DataFrame({\"股價淨值比\":PBR_end },index= [month_index]).round(2)\n",
    "    df_plus.append(df)"
   ]
  },
  {
   "cell_type": "code",
   "execution_count": 7,
   "metadata": {},
   "outputs": [],
   "source": [
    "#將新的資訊加入原有的資料中\n",
    "for new ,  key ,name in zip(df_plus  , stock.keys() ,stock.values()) :\n",
    "    #1.新比對月份是否有重複的\n",
    "    old=pd.read_csv(f\"./Data_股價淨值比/{key}_{name}.csv\",index_col=[\"Unnamed: 0\"])#讀入舊的dataFRAME\n",
    "    new_index=int(new.index.values)\n",
    "    old_index=old.tail(1).index.values\n",
    "    if new_index == old_index: \n",
    "        \"\"\"檢查最後ㄧ列的月份是否相同，如相同drop掉，用新的資料\"\"\"\n",
    "        old.drop(index =old_index ,inplace=True )\n",
    "        #2.將新的月份資料結合\n",
    "        new_= pd.concat([old ,new])\n",
    "        \n",
    "    else:\n",
    "         #2.將新的月份資料結合\n",
    "        new_= pd.concat([old ,new])\n",
    "    \n",
    "    new_.to_csv(f\"./Data_股價淨值比/{key}_{name}.csv\")\n",
    "        "
   ]
  }
 ],
 "metadata": {
  "kernelspec": {
   "display_name": "Python 3",
   "language": "python",
   "name": "python3"
  },
  "language_info": {
   "codemirror_mode": {
    "name": "ipython",
    "version": 3
   },
   "file_extension": ".py",
   "mimetype": "text/x-python",
   "name": "python",
   "nbconvert_exporter": "python",
   "pygments_lexer": "ipython3",
   "version": "3.8.1"
  }
 },
 "nbformat": 4,
 "nbformat_minor": 4
}
