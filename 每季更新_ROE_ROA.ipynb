{
 "cells": [
  {
   "cell_type": "code",
   "execution_count": 1,
   "metadata": {},
   "outputs": [],
   "source": [
    "import requests\n",
    "import pandas as pd\n",
    "import numpy as np\n",
    "import time\n",
    "from bs4 import BeautifulSoup\n",
    "import random\n",
    "import os\n",
    "import datetime\n"
   ]
  },
  {
   "cell_type": "code",
   "execution_count": 2,
   "metadata": {},
   "outputs": [],
   "source": [
    "stock ={\"陽明\":\"2609\",\"長榮\":\"2603\",\"萬海\":\"2615\",\"長榮航\":\"2618\",\"遠雄港\":\"5607\",\"華航\":\"2610\",\"台驊投控\":\"2636\",\"裕民\":\"2606\",\n",
    "        \"益航\":\"2601\" ,\"東森\":\"2614\",\"新興\":\"2605\" , \"四維航\":\"5608\" , \"台航\":\"2617\" }\n",
    "url_list = [f\"https://goodinfo.tw/StockInfo/StockBzPerformance.asp?STOCK_ID={i}&YEAR_PERIOD=9999&RPT_CAT=M_QUAR\" for i in stock.values()]"
   ]
  },
  {
   "cell_type": "code",
   "execution_count": 3,
   "metadata": {},
   "outputs": [],
   "source": [
    "day_now =datetime.datetime.strftime(datetime.datetime.today() ,'%Y%m%d') #現在的月份\n",
    "date_Q=pd.date_range(start=\"20170101\",end=day_now ,freq=\"Q\" ).map(lambda x : x.strftime(\"%Y%m\"))#季"
   ]
  },
  {
   "cell_type": "code",
   "execution_count": 4,
   "metadata": {},
   "outputs": [],
   "source": [
    "headers ={\"user-agent\":\"Mozilla/5.0 (Macintosh; Intel Mac OS X 10_15_7) AppleWebKit/537.36 (KHTML, like Gecko) Chrome/90.0.4430.212 Safari/537.36\"}"
   ]
  },
  {
   "cell_type": "code",
   "execution_count": 5,
   "metadata": {},
   "outputs": [],
   "source": [
    "def get_request(url , headers):\n",
    "    #request\n",
    "    r = requests.get(url ,headers=headers)\n",
    "    r.encoding=\"utf-8\"\n",
    "    res = r.text\n",
    "    soup=BeautifulSoup( res ,\"lxml\")\n",
    "    data = soup.select_one(\"#divDetail\")\n",
    "    return data"
   ]
  },
  {
   "cell_type": "code",
   "execution_count": 6,
   "metadata": {},
   "outputs": [],
   "source": [
    "#需要的最前面的時間>>> 有固定格式\n",
    "def get_read_html(data ):\n",
    "    #bs4 解析\n",
    "    \n",
    "    dfs=pd.read_html(data.prettify())[0]#prettify() : 函數將我們的data物件美化所用\n",
    "    dfs.columns = dfs.iloc[0,:]\n",
    "    #去除不需要的文字欄位\n",
    "    index_drop=np.where(dfs==\"季度\")[0]\n",
    "    df_new=dfs.drop(index=index_drop).reset_index().drop(columns=\"index\")\n",
    "    ROE=float(df_new.iloc[1,16])#ROE\n",
    "    ROA=float(df_new.iloc[1,18])#ROA\n",
    "    \n",
    "\n",
    "   \n",
    "     \n",
    "    return  ROE , ROA"
   ]
  },
  {
   "cell_type": "code",
   "execution_count": 7,
   "metadata": {},
   "outputs": [
    {
     "name": "stdout",
     "output_type": "stream",
     "text": [
      "https://goodinfo.tw/StockInfo/StockBzPerformance.asp?STOCK_ID=2609&YEAR_PERIOD=9999&RPT_CAT=M_QUAR\n",
      "https://goodinfo.tw/StockInfo/StockBzPerformance.asp?STOCK_ID=2603&YEAR_PERIOD=9999&RPT_CAT=M_QUAR\n",
      "https://goodinfo.tw/StockInfo/StockBzPerformance.asp?STOCK_ID=2615&YEAR_PERIOD=9999&RPT_CAT=M_QUAR\n",
      "https://goodinfo.tw/StockInfo/StockBzPerformance.asp?STOCK_ID=2618&YEAR_PERIOD=9999&RPT_CAT=M_QUAR\n",
      "https://goodinfo.tw/StockInfo/StockBzPerformance.asp?STOCK_ID=5607&YEAR_PERIOD=9999&RPT_CAT=M_QUAR\n",
      "https://goodinfo.tw/StockInfo/StockBzPerformance.asp?STOCK_ID=2610&YEAR_PERIOD=9999&RPT_CAT=M_QUAR\n",
      "https://goodinfo.tw/StockInfo/StockBzPerformance.asp?STOCK_ID=2636&YEAR_PERIOD=9999&RPT_CAT=M_QUAR\n",
      "https://goodinfo.tw/StockInfo/StockBzPerformance.asp?STOCK_ID=2606&YEAR_PERIOD=9999&RPT_CAT=M_QUAR\n",
      "https://goodinfo.tw/StockInfo/StockBzPerformance.asp?STOCK_ID=2601&YEAR_PERIOD=9999&RPT_CAT=M_QUAR\n",
      "https://goodinfo.tw/StockInfo/StockBzPerformance.asp?STOCK_ID=2614&YEAR_PERIOD=9999&RPT_CAT=M_QUAR\n",
      "https://goodinfo.tw/StockInfo/StockBzPerformance.asp?STOCK_ID=2605&YEAR_PERIOD=9999&RPT_CAT=M_QUAR\n",
      "https://goodinfo.tw/StockInfo/StockBzPerformance.asp?STOCK_ID=5608&YEAR_PERIOD=9999&RPT_CAT=M_QUAR\n",
      "https://goodinfo.tw/StockInfo/StockBzPerformance.asp?STOCK_ID=2617&YEAR_PERIOD=9999&RPT_CAT=M_QUAR\n"
     ]
    }
   ],
   "source": [
    "df_plus=[]\n",
    "for url_OE_OR  in url_list :\n",
    "    \n",
    "    print(url_OE_OR)\n",
    "    data = get_request(url_OE_OR ,headers )\n",
    "    time.sleep(15)\n",
    "    while  data is None :\n",
    "        data = get_request(url_OE_OR ,headers )\n",
    "        time.sleep(15)\n",
    "    ROE ,ROA =get_read_html(data)\n",
    "    df=pd.DataFrame({\"ROE\":ROE ,\"ROA\":ROA} ,index=date_Q).round(2) \n",
    "    df_plus.append(df)"
   ]
  },
  {
   "cell_type": "code",
   "execution_count": 8,
   "metadata": {},
   "outputs": [
    {
     "ename": "TypeError",
     "evalue": "only size-1 arrays can be converted to Python scalars",
     "output_type": "error",
     "traceback": [
      "\u001b[0;31m---------------------------------------------------------------------------\u001b[0m",
      "\u001b[0;31mTypeError\u001b[0m                                 Traceback (most recent call last)",
      "\u001b[0;32m<ipython-input-8-fa75aec5c608>\u001b[0m in \u001b[0;36m<module>\u001b[0;34m\u001b[0m\n\u001b[1;32m      3\u001b[0m     \u001b[0;31m#1.新比對月份是否有重複的\u001b[0m\u001b[0;34m\u001b[0m\u001b[0;34m\u001b[0m\u001b[0;34m\u001b[0m\u001b[0m\n\u001b[1;32m      4\u001b[0m     \u001b[0mold\u001b[0m\u001b[0;34m=\u001b[0m\u001b[0mpd\u001b[0m\u001b[0;34m.\u001b[0m\u001b[0mread_csv\u001b[0m\u001b[0;34m(\u001b[0m\u001b[0;34mf\"./Data_price/{key}_{name}.csv\"\u001b[0m\u001b[0;34m,\u001b[0m\u001b[0mindex_col\u001b[0m\u001b[0;34m=\u001b[0m\u001b[0;34m[\u001b[0m\u001b[0;34m\"Unnamed: 0\"\u001b[0m\u001b[0;34m]\u001b[0m\u001b[0;34m)\u001b[0m\u001b[0;31m#讀入舊的dataFRAME\u001b[0m\u001b[0;34m\u001b[0m\u001b[0;34m\u001b[0m\u001b[0m\n\u001b[0;32m----> 5\u001b[0;31m     \u001b[0mnew_index\u001b[0m\u001b[0;34m=\u001b[0m\u001b[0mint\u001b[0m\u001b[0;34m(\u001b[0m\u001b[0mnew\u001b[0m\u001b[0;34m.\u001b[0m\u001b[0mindex\u001b[0m\u001b[0;34m.\u001b[0m\u001b[0mvalues\u001b[0m\u001b[0;34m)\u001b[0m\u001b[0;34m\u001b[0m\u001b[0;34m\u001b[0m\u001b[0m\n\u001b[0m\u001b[1;32m      6\u001b[0m     \u001b[0mold_index\u001b[0m\u001b[0;34m=\u001b[0m\u001b[0mold\u001b[0m\u001b[0;34m.\u001b[0m\u001b[0mtail\u001b[0m\u001b[0;34m(\u001b[0m\u001b[0;36m1\u001b[0m\u001b[0;34m)\u001b[0m\u001b[0;34m.\u001b[0m\u001b[0mindex\u001b[0m\u001b[0;34m.\u001b[0m\u001b[0mvalues\u001b[0m\u001b[0;34m\u001b[0m\u001b[0;34m\u001b[0m\u001b[0m\n\u001b[1;32m      7\u001b[0m     \u001b[0;32mif\u001b[0m \u001b[0mnew_index\u001b[0m \u001b[0;34m==\u001b[0m \u001b[0mold_index\u001b[0m\u001b[0;34m:\u001b[0m\u001b[0;34m\u001b[0m\u001b[0;34m\u001b[0m\u001b[0m\n",
      "\u001b[0;31mTypeError\u001b[0m: only size-1 arrays can be converted to Python scalars"
     ]
    }
   ],
   "source": [
    "#將新的資訊加入原有的資料中\n",
    "for new ,  key ,name in zip(df_plus  , stock.keys() ,stock.values()) :\n",
    "    #1.新比對月份是否有重複的\n",
    "    old=pd.read_csv(f\"./Data_price/{key}_{name}.csv\",index_col=[\"Unnamed: 0\"])#讀入舊的dataFRAME\n",
    "    new_index=int(new.index.values)\n",
    "    old_index=old.tail(1).index.values\n",
    "    if new_index == old_index: \n",
    "        \"\"\"檢查最後ㄧ列的月份是否相同，如相同drop掉，用新的資料\"\"\"\n",
    "        old.drop(index =old_index ,inplace=True )\n",
    "        #2.將新的月份資料結合\n",
    "        new_= pd.concat([old ,new])\n",
    "        \n",
    "    else:\n",
    "         #2.將新的月份資料結合\n",
    "        new_= pd.concat([old ,new])\n",
    "    \n",
    "    new_.to_csv(f\"./Data_price/{key}_{name}.csv\")"
   ]
  }
 ],
 "metadata": {
  "kernelspec": {
   "display_name": "Python 3",
   "language": "python",
   "name": "python3"
  },
  "language_info": {
   "codemirror_mode": {
    "name": "ipython",
    "version": 3
   },
   "file_extension": ".py",
   "mimetype": "text/x-python",
   "name": "python",
   "nbconvert_exporter": "python",
   "pygments_lexer": "ipython3",
   "version": "3.8.1"
  }
 },
 "nbformat": 4,
 "nbformat_minor": 4
}
