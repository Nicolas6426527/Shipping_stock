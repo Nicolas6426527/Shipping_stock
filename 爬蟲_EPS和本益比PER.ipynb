{
 "cells": [
  {
   "cell_type": "code",
   "execution_count": 1,
   "metadata": {},
   "outputs": [],
   "source": [
    "import requests\n",
    "import pandas as pd\n",
    "import numpy as np\n",
    "import time\n",
    "from bs4 import BeautifulSoup\n",
    "import random\n",
    "import os\n",
    "import datetime"
   ]
  },
  {
   "cell_type": "code",
   "execution_count": 2,
   "metadata": {},
   "outputs": [],
   "source": [
    "stock ={\"陽明\":\"2609\",\"長榮\":\"2603\",\"萬海\":\"2615\",\"長榮航\":\"2618\",\"遠雄港\":\"5607\",\"華航\":\"2610\",\"台驊投控\":\"2636\",\"裕民\":\"2606\",\n",
    "        \"益航\":\"2601\" ,\"東森\":\"2614\",\"新興\":\"2605\" , \"四維航\":\"5608\" , \"台航\":\"2617\" }\n",
    "url_list = [f\"https://goodinfo.tw/StockInfo/ShowK_ChartFlow.asp?RPT_CAT=PER&STOCK_ID={i}&CHT_CAT=MONTH\" for i in stock.values()]"
   ]
  },
  {
   "cell_type": "code",
   "execution_count": 3,
   "metadata": {},
   "outputs": [],
   "source": [
    "day_now =datetime.datetime.strftime(datetime.datetime.today() ,'%Y%m%d') #現在的月份\n",
    "date=pd.date_range(start=\"20170101\",end=day_now ,freq=\"MS\" ).map(lambda x : x.strftime(\"%Y%m\"))"
   ]
  },
  {
   "cell_type": "code",
   "execution_count": 4,
   "metadata": {},
   "outputs": [],
   "source": [
    "headers ={\"user-agent\":\"Mozilla/5.0 (Macintosh; Intel Mac OS X 10_15_7) AppleWebKit/537.36 (KHTML, like Gecko) Chrome/90.0.4430.212 Safari/537.36\"}"
   ]
  },
  {
   "cell_type": "code",
   "execution_count": 5,
   "metadata": {},
   "outputs": [],
   "source": [
    "def get_request(url , headers):\n",
    "    #request\n",
    "    r = requests.get(url ,headers=headers)\n",
    "    r.encoding=\"utf-8\"\n",
    "    res = r.text\n",
    "    soup=BeautifulSoup( res ,\"lxml\")\n",
    "    data = soup.select_one(\"#divDetail\")\n",
    "    return data\n",
    "    \n"
   ]
  },
  {
   "cell_type": "code",
   "execution_count": 6,
   "metadata": {},
   "outputs": [],
   "source": [
    "#需要的最前的時間\n",
    "want_time = \"17M01\" \n",
    "def get_read_html(data  , want_time):\n",
    "    #bs4 解析\n",
    "    \n",
    "    dfs=pd.read_html(data.prettify())[0]#prettify() : 函數將我們的data物件美化所用\n",
    "    dfs.columns = dfs.iloc[0,:]\n",
    "    #去除不需要的文字欄位\n",
    "    index_drop =[]\n",
    "    for i , j in zip(dfs.iloc[:,4] ,dfs.iloc[:,4].index.values):\n",
    "        if \"EPS\" in i :\n",
    "            index_drop.append(j)\n",
    "    df_new=dfs.drop(index=index_drop).reset_index().drop(columns=\"index\")\n",
    "    #找到時間的起點，依照該表單月份的格式去做到搜尋\n",
    "    want_index=df_new[df_new.iloc[:,0]==f\"{want_time}\"].index.values[0]+1\n",
    "    df_new=df_new.iloc[:want_index ,:]\n",
    "    return df_new  #回傳一個整理好的data\n",
    "\n"
   ]
  },
  {
   "cell_type": "code",
   "execution_count": 7,
   "metadata": {},
   "outputs": [],
   "source": [
    "# 決定要儲存的資料夾\n",
    "output_dir = 'Data_EPS和PER' \n",
    "\n",
    "# 假如資料夾不存在就新增一個資料夾\n",
    "if not os.path.exists(output_dir):\n",
    "    os.makedirs(output_dir)"
   ]
  },
  {
   "cell_type": "code",
   "execution_count": 8,
   "metadata": {},
   "outputs": [
    {
     "name": "stdout",
     "output_type": "stream",
     "text": [
      "https://goodinfo.tw/StockInfo/ShowK_ChartFlow.asp?RPT_CAT=PER&STOCK_ID=2609&CHT_CAT=MONTH\n",
      "https://goodinfo.tw/StockInfo/ShowK_ChartFlow.asp?RPT_CAT=PER&STOCK_ID=2603&CHT_CAT=MONTH\n",
      "https://goodinfo.tw/StockInfo/ShowK_ChartFlow.asp?RPT_CAT=PER&STOCK_ID=2615&CHT_CAT=MONTH\n",
      "https://goodinfo.tw/StockInfo/ShowK_ChartFlow.asp?RPT_CAT=PER&STOCK_ID=2618&CHT_CAT=MONTH\n",
      "https://goodinfo.tw/StockInfo/ShowK_ChartFlow.asp?RPT_CAT=PER&STOCK_ID=5607&CHT_CAT=MONTH\n",
      "https://goodinfo.tw/StockInfo/ShowK_ChartFlow.asp?RPT_CAT=PER&STOCK_ID=2610&CHT_CAT=MONTH\n",
      "https://goodinfo.tw/StockInfo/ShowK_ChartFlow.asp?RPT_CAT=PER&STOCK_ID=2636&CHT_CAT=MONTH\n",
      "https://goodinfo.tw/StockInfo/ShowK_ChartFlow.asp?RPT_CAT=PER&STOCK_ID=2606&CHT_CAT=MONTH\n",
      "https://goodinfo.tw/StockInfo/ShowK_ChartFlow.asp?RPT_CAT=PER&STOCK_ID=2601&CHT_CAT=MONTH\n",
      "https://goodinfo.tw/StockInfo/ShowK_ChartFlow.asp?RPT_CAT=PER&STOCK_ID=2614&CHT_CAT=MONTH\n",
      "https://goodinfo.tw/StockInfo/ShowK_ChartFlow.asp?RPT_CAT=PER&STOCK_ID=2605&CHT_CAT=MONTH\n",
      "https://goodinfo.tw/StockInfo/ShowK_ChartFlow.asp?RPT_CAT=PER&STOCK_ID=5608&CHT_CAT=MONTH\n",
      "https://goodinfo.tw/StockInfo/ShowK_ChartFlow.asp?RPT_CAT=PER&STOCK_ID=2617&CHT_CAT=MONTH\n"
     ]
    }
   ],
   "source": [
    "for name , code  , url in zip(stock ,stock.values() , url_list ):\n",
    "    print(url)\n",
    "    data=get_request(url , headers)\n",
    "    time.sleep(15)#停每15秒，避免阻擋爬蟲\n",
    "    while data  is None:\n",
    "        data=request_And_bs4(url , headers)\n",
    "        time.sleep(15)#停每15秒，避免阻擋爬蟲\n",
    "    df_new = get_read_html(data , want_time)\n",
    "    df=pd.read_csv(f\"./Data_price/{name}_{code}.csv\" ,index_col=[\"Unnamed: 0\"] )#讀取資料\n",
    "    df[\"EPS\" ]= df_new.iloc[:,4].map(lambda x : float(x))[::-1].values #轉型成float，倒轉以符合時間\n",
    "    df[\"PER_medain_price\"] = (df[\"medain_price\"]/df[\"EPS\" ]).map(lambda x : 0 if x<=0 or x==float(\"inf\") or x==float(\"-inf\") else x).round(2)\n",
    "    df.iloc[:,4:].to_csv(f\"./Data_EPS和PER/{name}_{code}.csv\")\n"
   ]
  },
  {
   "cell_type": "code",
   "execution_count": null,
   "metadata": {},
   "outputs": [],
   "source": []
  }
 ],
 "metadata": {
  "kernelspec": {
   "display_name": "Python 3",
   "language": "python",
   "name": "python3"
  },
  "language_info": {
   "codemirror_mode": {
    "name": "ipython",
    "version": 3
   },
   "file_extension": ".py",
   "mimetype": "text/x-python",
   "name": "python",
   "nbconvert_exporter": "python",
   "pygments_lexer": "ipython3",
   "version": "3.8.1"
  }
 },
 "nbformat": 4,
 "nbformat_minor": 4
}
