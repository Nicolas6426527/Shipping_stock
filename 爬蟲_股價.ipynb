{
 "cells": [
  {
   "cell_type": "code",
   "execution_count": 9,
   "metadata": {},
   "outputs": [],
   "source": [
    "import requests\n",
    "import pandas as pd\n",
    "import numpy as np\n",
    "import time\n",
    "from bs4 import BeautifulSoup\n",
    "import random\n",
    "import os\n",
    "import datetime"
   ]
  },
  {
   "cell_type": "markdown",
   "metadata": {},
   "source": [
    "### 建立航運股的股票、日期"
   ]
  },
  {
   "cell_type": "code",
   "execution_count": 10,
   "metadata": {},
   "outputs": [],
   "source": [
    "stock ={\"陽明\":\"2609\",\"長榮\":\"2603\",\"萬海\":\"2615\",\"長榮航\":\"2618\",\"遠雄港\":\"5607\",\"華航\":\"2610\",\"台驊投控\":\"2636\",\"裕民\":\"2606\",\n",
    "        \"益航\":\"2601\" ,\"東森\":\"2614\",\"新興\":\"2605\" , \"四維航\":\"5608\" , \"台航\":\"2617\" }"
   ]
  },
  {
   "cell_type": "code",
   "execution_count": 11,
   "metadata": {},
   "outputs": [],
   "source": [
    "day_now =datetime.datetime.strftime(datetime.datetime.today() ,'%Y%m%d') #現在的月份\n",
    "#建立url需要的日期部分，格式為年、月、1號 >>> 20190101\n",
    "date=pd.date_range(start=\"20170101\",end=day_now ,freq=\"MS\" ).map(lambda x : x.strftime(\"%Y%m%d\"))\n",
    "#建立dataFRAM的index\n",
    "date_index = pd.date_range(start=\"20170101\",end=day_now ,freq=\"MS\" ).map(lambda x : x.strftime(\"%Y%m\"))"
   ]
  },
  {
   "cell_type": "markdown",
   "metadata": {},
   "source": [
    "### 取每月的最高價、最低價、收盤中位數、成交量中位數"
   ]
  },
  {
   "cell_type": "code",
   "execution_count": 12,
   "metadata": {},
   "outputs": [],
   "source": [
    "#header\n",
    "headers ={\"user-agent\":\"Mozilla/5.0 (Macintosh; Intel Mac OS X 10_15_7) AppleWebKit/537.36 (KHTML, like Gecko) Chrome/90.0.4430.212 Safari/537.36\"}"
   ]
  },
  {
   "cell_type": "code",
   "execution_count": 20,
   "metadata": {},
   "outputs": [],
   "source": [
    "def get_text(url   ,headers ):\n",
    "    \"\"\"負責request的請求\n",
    "    傳入網址、header(避免反爬蟲機制)\"\"\"\n",
    "    r = requests.get(url, headers=headers )\n",
    "    res = r.text\n",
    "    soup=BeautifulSoup( res ,\"lxml\")\n",
    "    return soup"
   ]
  },
  {
   "cell_type": "code",
   "execution_count": 21,
   "metadata": {},
   "outputs": [],
   "source": [
    "def get_value(soup):\n",
    "    \"\"\"請傳入 rqquest.get(url).text\"\"\"\n",
    "    \n",
    "    \"\"\"return 資料為一個月的數值的四個數值 max_price、min_price、median_price、median的交易筆數 \"\"\"\n",
    "    #使用BeautifulSoup 做解析\n",
    "    \n",
    "    max_p = []#每日最大的價格的集合（月）\n",
    "    min_p=[]#每日最低的價格的集合（月）\n",
    "    median_p=[]#每日的收盤價格的集合（月）\n",
    "    median_trans_all =[]#每日的交易筆數的集合（月）\n",
    "      \n",
    "    for  tr in soup.find_all(\"tr\")[2:]:\n",
    "        if tr.find_all(\"td\")[4].text == \"--\": #當其中值是等於該“\"--\"符號，跳過本次迴圈\n",
    "            continue\n",
    "    \n",
    "        max_=float(tr.find_all(\"td\")[4].text)#原欄位是當天最高價\n",
    "        min_=float(tr.find_all(\"td\")[5].text)#原欄位是當天最低價\n",
    "        median_=float(tr.find_all(\"td\")[6].text)#原欄位是當天收盤價\n",
    "        median_tran=float(tr.find_all(\"td\")[8].text.replace(\",\",\"\"))#去除逗號、原欄位是當天的交易筆數\n",
    "        max_p.append(max_)\n",
    "        min_p.append(min_)\n",
    "        median_p.append(median_)\n",
    "        median_trans_all.append(median_tran)\n",
    "\n",
    "    max_end =np.max(max_p)#將該當月最高價的list，找出當月的最高價\n",
    "    min_end =np.min(min_p)#將該當月最低價的list，找出當月的最低價\n",
    "    median_price_end=np.median(median_p)#將該當月的收盤價list，找出當月的中位數收盤價\n",
    "    median_tran_end =np.median(median_trans_all)#將該當月最低價的交易筆數list，找出當月的中位數交易筆數\n",
    "    \n",
    "    return  max_end ,  min_end ,  median_price_end ,  median_tran_end"
   ]
  },
  {
   "cell_type": "markdown",
   "metadata": {},
   "source": [
    "### 將各航運股公司的資料解析，取出所需的資料，輸出成CSV"
   ]
  },
  {
   "cell_type": "code",
   "execution_count": null,
   "metadata": {},
   "outputs": [],
   "source": [
    "# 決定要儲存的資料夾\n",
    "output_dir = 'Data_price' \n",
    "\n",
    "# 假如資料夾不存在就新增一個資料夾\n",
    "if not os.path.exists(output_dir):\n",
    "    os.makedirs(output_dir)"
   ]
  },
  {
   "cell_type": "code",
   "execution_count": null,
   "metadata": {},
   "outputs": [],
   "source": [
    "for name ,code  in zip(stock,stock.values()):\n",
    "    url =  [f\"https://www.twse.com.tw/exchangeReport/STOCK_DAY?response=html&date={j}&stockNo={code}\" for  j in date ]\n",
    "    #建立該公司的url\n",
    "    max_=[]#所有當月最高價格\n",
    "    min_=[]#所有當月最低價格\n",
    "    median_p=[]#所有當月中位數的收盤價\n",
    "    median_tran=[]#所有當月中位數的交易筆數\n",
    "    n=0 #額外停止時間\n",
    "    for url_ in url:\n",
    "        n+=1\n",
    "        #print(url_)\n",
    "        soup = get_text(url_ ,headers )\n",
    "        time.sleep(3)\n",
    "        while soup is None:\n",
    "            soup = get_text(url_ ,headers )\n",
    "            time.sleep(3)  \n",
    "        \n",
    "        max_end ,  min_end ,  median_price_end ,  median_tran_end=get_value(soup)\n",
    "        max_.append(max_end)#將該公司所有的當月最高價格傳入\n",
    "        min_.append(min_end)#將該公司所有的當月最低價格傳入\n",
    "        median_p.append(median_price_end)#將該公司所有的當月中位數的收盤價格\n",
    "        median_tran.append(median_tran_end)#將該公司所有的當月中位數的交易筆數\n",
    "        if n%15==0:#每15次停5秒\n",
    "            time.sleep(5)\n",
    "    \"\"\"將每一個公司建一個DataFrame，並建立該公司資料的csv檔，索引用日期的部分\"\"\"\n",
    "    pd.DataFrame({\"max_price\":max_,\"min_price\":min_,\"medain_price\":median_p,\n",
    "                      \"medain_transactions\":median_tran},index= date_index).round(2).to_csv(f\"./Data_price/{name}_{code}.csv\")\n",
    "    \n",
    "    \n",
    "        \n",
    "        \n",
    "        \n",
    "    \n",
    "    "
   ]
  },
  {
   "cell_type": "markdown",
   "metadata": {},
   "source": [
    "##### 單一公司"
   ]
  },
  {
   "cell_type": "code",
   "execution_count": 22,
   "metadata": {},
   "outputs": [
    {
     "name": "stdout",
     "output_type": "stream",
     "text": [
      "https://www.twse.com.tw/exchangeReport/STOCK_DAY?response=html&date=20170101&stockNo=2617\n",
      "https://www.twse.com.tw/exchangeReport/STOCK_DAY?response=html&date=20170201&stockNo=2617\n",
      "https://www.twse.com.tw/exchangeReport/STOCK_DAY?response=html&date=20170301&stockNo=2617\n",
      "https://www.twse.com.tw/exchangeReport/STOCK_DAY?response=html&date=20170401&stockNo=2617\n",
      "https://www.twse.com.tw/exchangeReport/STOCK_DAY?response=html&date=20170501&stockNo=2617\n",
      "https://www.twse.com.tw/exchangeReport/STOCK_DAY?response=html&date=20170601&stockNo=2617\n",
      "https://www.twse.com.tw/exchangeReport/STOCK_DAY?response=html&date=20170701&stockNo=2617\n",
      "https://www.twse.com.tw/exchangeReport/STOCK_DAY?response=html&date=20170801&stockNo=2617\n",
      "https://www.twse.com.tw/exchangeReport/STOCK_DAY?response=html&date=20170901&stockNo=2617\n",
      "https://www.twse.com.tw/exchangeReport/STOCK_DAY?response=html&date=20171001&stockNo=2617\n",
      "https://www.twse.com.tw/exchangeReport/STOCK_DAY?response=html&date=20171101&stockNo=2617\n",
      "https://www.twse.com.tw/exchangeReport/STOCK_DAY?response=html&date=20171201&stockNo=2617\n",
      "https://www.twse.com.tw/exchangeReport/STOCK_DAY?response=html&date=20180101&stockNo=2617\n",
      "https://www.twse.com.tw/exchangeReport/STOCK_DAY?response=html&date=20180201&stockNo=2617\n",
      "https://www.twse.com.tw/exchangeReport/STOCK_DAY?response=html&date=20180301&stockNo=2617\n",
      "https://www.twse.com.tw/exchangeReport/STOCK_DAY?response=html&date=20180401&stockNo=2617\n",
      "https://www.twse.com.tw/exchangeReport/STOCK_DAY?response=html&date=20180501&stockNo=2617\n",
      "https://www.twse.com.tw/exchangeReport/STOCK_DAY?response=html&date=20180601&stockNo=2617\n",
      "https://www.twse.com.tw/exchangeReport/STOCK_DAY?response=html&date=20180701&stockNo=2617\n",
      "https://www.twse.com.tw/exchangeReport/STOCK_DAY?response=html&date=20180801&stockNo=2617\n",
      "https://www.twse.com.tw/exchangeReport/STOCK_DAY?response=html&date=20180901&stockNo=2617\n",
      "https://www.twse.com.tw/exchangeReport/STOCK_DAY?response=html&date=20181001&stockNo=2617\n",
      "https://www.twse.com.tw/exchangeReport/STOCK_DAY?response=html&date=20181101&stockNo=2617\n",
      "https://www.twse.com.tw/exchangeReport/STOCK_DAY?response=html&date=20181201&stockNo=2617\n",
      "https://www.twse.com.tw/exchangeReport/STOCK_DAY?response=html&date=20190101&stockNo=2617\n",
      "https://www.twse.com.tw/exchangeReport/STOCK_DAY?response=html&date=20190201&stockNo=2617\n",
      "https://www.twse.com.tw/exchangeReport/STOCK_DAY?response=html&date=20190301&stockNo=2617\n",
      "https://www.twse.com.tw/exchangeReport/STOCK_DAY?response=html&date=20190401&stockNo=2617\n",
      "https://www.twse.com.tw/exchangeReport/STOCK_DAY?response=html&date=20190501&stockNo=2617\n",
      "https://www.twse.com.tw/exchangeReport/STOCK_DAY?response=html&date=20190601&stockNo=2617\n",
      "https://www.twse.com.tw/exchangeReport/STOCK_DAY?response=html&date=20190701&stockNo=2617\n",
      "https://www.twse.com.tw/exchangeReport/STOCK_DAY?response=html&date=20190801&stockNo=2617\n",
      "https://www.twse.com.tw/exchangeReport/STOCK_DAY?response=html&date=20190901&stockNo=2617\n",
      "https://www.twse.com.tw/exchangeReport/STOCK_DAY?response=html&date=20191001&stockNo=2617\n",
      "https://www.twse.com.tw/exchangeReport/STOCK_DAY?response=html&date=20191101&stockNo=2617\n",
      "https://www.twse.com.tw/exchangeReport/STOCK_DAY?response=html&date=20191201&stockNo=2617\n",
      "https://www.twse.com.tw/exchangeReport/STOCK_DAY?response=html&date=20200101&stockNo=2617\n",
      "https://www.twse.com.tw/exchangeReport/STOCK_DAY?response=html&date=20200201&stockNo=2617\n",
      "https://www.twse.com.tw/exchangeReport/STOCK_DAY?response=html&date=20200301&stockNo=2617\n",
      "https://www.twse.com.tw/exchangeReport/STOCK_DAY?response=html&date=20200401&stockNo=2617\n",
      "https://www.twse.com.tw/exchangeReport/STOCK_DAY?response=html&date=20200501&stockNo=2617\n",
      "https://www.twse.com.tw/exchangeReport/STOCK_DAY?response=html&date=20200601&stockNo=2617\n",
      "https://www.twse.com.tw/exchangeReport/STOCK_DAY?response=html&date=20200701&stockNo=2617\n",
      "https://www.twse.com.tw/exchangeReport/STOCK_DAY?response=html&date=20200801&stockNo=2617\n",
      "https://www.twse.com.tw/exchangeReport/STOCK_DAY?response=html&date=20200901&stockNo=2617\n",
      "https://www.twse.com.tw/exchangeReport/STOCK_DAY?response=html&date=20201001&stockNo=2617\n",
      "https://www.twse.com.tw/exchangeReport/STOCK_DAY?response=html&date=20201101&stockNo=2617\n",
      "https://www.twse.com.tw/exchangeReport/STOCK_DAY?response=html&date=20201201&stockNo=2617\n",
      "https://www.twse.com.tw/exchangeReport/STOCK_DAY?response=html&date=20210101&stockNo=2617\n",
      "https://www.twse.com.tw/exchangeReport/STOCK_DAY?response=html&date=20210201&stockNo=2617\n",
      "https://www.twse.com.tw/exchangeReport/STOCK_DAY?response=html&date=20210301&stockNo=2617\n",
      "https://www.twse.com.tw/exchangeReport/STOCK_DAY?response=html&date=20210401&stockNo=2617\n",
      "https://www.twse.com.tw/exchangeReport/STOCK_DAY?response=html&date=20210501&stockNo=2617\n",
      "https://www.twse.com.tw/exchangeReport/STOCK_DAY?response=html&date=20210601&stockNo=2617\n"
     ]
    }
   ],
   "source": [
    "company_Name=\"台航\"\n",
    "company_Code=\"2617\"\n",
    "url =  [f\"https://www.twse.com.tw/exchangeReport/STOCK_DAY?response=html&date={j}&stockNo={company_Code}\" for  j in date ]\n",
    "#建立該公司的url\n",
    "max_=[]#所有當月最高價格\n",
    "min_=[]#所有當月最低價格\n",
    "median_p=[]#所有當月中位數的收盤價\n",
    "median_tran=[]#所有當月中位數的交易筆數\n",
    "n=0\n",
    "for url_ in url:\n",
    "    n+=1\n",
    "    print(url_)\n",
    "    soup = get_text(url_ ,headers )\n",
    "    time.sleep(3)\n",
    "    while soup is None :\n",
    "        soup = get_text(url_ ,headers )\n",
    "        time.sleep(3)\n",
    "    max_end ,  min_end ,  median_price_end ,  median_tran_end=get_value(soup)\n",
    "    max_.append(max_end)#將該公司所有的當月最高價格傳入\n",
    "    min_.append(min_end)#將該公司所有的當月最低價格傳入\n",
    "    median_p.append(median_price_end)#將該公司所有的當月中位數的收盤價格\n",
    "    median_tran.append(median_tran_end)#將該公司所有的當月中位數的交易筆數\n",
    "    if n%15==0:#每15次停10秒\n",
    "        time.sleep(10)\n",
    "    \"\"\"將每一個公司建一個DataFrame，並建立該公司資料的csv檔，索引用日期的部分\"\"\"\n",
    "    \n",
    "pd.DataFrame({\"max_price\":max_,\"min_price\":min_,\"medain_price\":median_p,\n",
    "                      \"medain_transactions\":median_tran}\n",
    "             ,index= date_index).round(2).to_csv(f\"./Data_price/{company_Name}_{company_Code}.csv\")\n",
    "    "
   ]
  },
  {
   "cell_type": "code",
   "execution_count": null,
   "metadata": {},
   "outputs": [],
   "source": []
  }
 ],
 "metadata": {
  "kernelspec": {
   "display_name": "Python 3",
   "language": "python",
   "name": "python3"
  },
  "language_info": {
   "codemirror_mode": {
    "name": "ipython",
    "version": 3
   },
   "file_extension": ".py",
   "mimetype": "text/x-python",
   "name": "python",
   "nbconvert_exporter": "python",
   "pygments_lexer": "ipython3",
   "version": "3.8.1"
  }
 },
 "nbformat": 4,
 "nbformat_minor": 4
}
