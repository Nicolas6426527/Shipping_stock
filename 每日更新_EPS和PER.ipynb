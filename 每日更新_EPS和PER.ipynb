{
 "cells": [
  {
   "cell_type": "code",
   "execution_count": 1,
   "metadata": {},
   "outputs": [],
   "source": [
    "import requests\n",
    "import pandas as pd\n",
    "import numpy as np\n",
    "import time\n",
    "from bs4 import BeautifulSoup\n",
    "import random\n",
    "import os\n",
    "import datetime\n"
   ]
  },
  {
   "cell_type": "code",
   "execution_count": 2,
   "metadata": {},
   "outputs": [],
   "source": [
    "stock ={\"陽明\":\"2609\",\"長榮\":\"2603\",\"萬海\":\"2615\",\"長榮航\":\"2618\",\"遠雄港\":\"5607\",\"華航\":\"2610\",\"台驊投控\":\"2636\",\"裕民\":\"2606\",\n",
    "        \"益航\":\"2601\" ,\"東森\":\"2614\",\"新興\":\"2605\" , \"四維航\":\"5608\" , \"台航\":\"2617\" }\n",
    "month_index = datetime.datetime.strftime(datetime.datetime.today() ,'%Y%m') #index使用"
   ]
  },
  {
   "cell_type": "code",
   "execution_count": 3,
   "metadata": {},
   "outputs": [],
   "source": [
    "url_eps = [f\"https://goodinfo.tw/StockInfo/ShowK_ChartFlow.asp?RPT_CAT=PER&STOCK_ID={i}&CHT_CAT=MONTH\" for i in stock.values()]\n"
   ]
  },
  {
   "cell_type": "code",
   "execution_count": 4,
   "metadata": {},
   "outputs": [],
   "source": [
    "\n",
    "headers ={\"user-agent\":\"Mozilla/5.0 (Macintosh; Intel Mac OS X 10_15_7) AppleWebKit/537.36 (KHTML, like Gecko) Chrome/90.0.4430.212 Safari/537.36\"}\n"
   ]
  },
  {
   "cell_type": "code",
   "execution_count": 5,
   "metadata": {},
   "outputs": [],
   "source": [
    "def get_request_eps(url , headers):\n",
    "    #request\n",
    "    r = requests.get(url ,headers=headers)\n",
    "    r.encoding=\"utf-8\"\n",
    "    res = r.text\n",
    "    soup=BeautifulSoup( res ,\"lxml\")\n",
    "    data = soup.select_one(\"#divDetail\")\n",
    "    return data"
   ]
  },
  {
   "cell_type": "code",
   "execution_count": 6,
   "metadata": {},
   "outputs": [],
   "source": [
    "#EPS \n",
    "#需要的最前的時間\n",
    "def get_eps(data):\n",
    "    #bs4 解析\n",
    "    dfs=pd.read_html(data.prettify())[0]#prettify() : 函數將我們的data物件美化所用\n",
    "    dfs.columns = dfs.iloc[0,:]\n",
    "    #去除不需要的文字欄位\n",
    "    indexList =[]\n",
    "    for i , j in zip(dfs.iloc[:,4] ,dfs.iloc[:,4].index.values):\n",
    "        if \"EPS\" in i :\n",
    "            indexList.append(j)\n",
    "    df_new=dfs.drop(index=indexList).reset_index().drop(columns=\"index\")\n",
    "    #找到時間的起點，依照該表單月份的格式去做到搜尋\n",
    "    eps=df_new.head(1).iloc[:,4].map(lambda x : float(x)).values\n",
    "    \n",
    "    return eps  #回傳一個整理好的data"
   ]
  },
  {
   "cell_type": "code",
   "execution_count": 11,
   "metadata": {},
   "outputs": [],
   "source": [
    "def per_if(x):\n",
    "    if x<=0 or x==float(\"inf\") or x==float(\"-inf\") :\n",
    "        return 0\n",
    "    else:\n",
    "        return x"
   ]
  },
  {
   "cell_type": "code",
   "execution_count": 12,
   "metadata": {},
   "outputs": [
    {
     "name": "stdout",
     "output_type": "stream",
     "text": [
      "https://goodinfo.tw/StockInfo/ShowK_ChartFlow.asp?RPT_CAT=PER&STOCK_ID=2609&CHT_CAT=MONTH\n",
      "https://goodinfo.tw/StockInfo/ShowK_ChartFlow.asp?RPT_CAT=PER&STOCK_ID=2603&CHT_CAT=MONTH\n",
      "https://goodinfo.tw/StockInfo/ShowK_ChartFlow.asp?RPT_CAT=PER&STOCK_ID=2615&CHT_CAT=MONTH\n",
      "https://goodinfo.tw/StockInfo/ShowK_ChartFlow.asp?RPT_CAT=PER&STOCK_ID=2618&CHT_CAT=MONTH\n",
      "https://goodinfo.tw/StockInfo/ShowK_ChartFlow.asp?RPT_CAT=PER&STOCK_ID=5607&CHT_CAT=MONTH\n",
      "https://goodinfo.tw/StockInfo/ShowK_ChartFlow.asp?RPT_CAT=PER&STOCK_ID=2610&CHT_CAT=MONTH\n",
      "https://goodinfo.tw/StockInfo/ShowK_ChartFlow.asp?RPT_CAT=PER&STOCK_ID=2636&CHT_CAT=MONTH\n",
      "https://goodinfo.tw/StockInfo/ShowK_ChartFlow.asp?RPT_CAT=PER&STOCK_ID=2606&CHT_CAT=MONTH\n",
      "https://goodinfo.tw/StockInfo/ShowK_ChartFlow.asp?RPT_CAT=PER&STOCK_ID=2601&CHT_CAT=MONTH\n",
      "https://goodinfo.tw/StockInfo/ShowK_ChartFlow.asp?RPT_CAT=PER&STOCK_ID=2614&CHT_CAT=MONTH\n",
      "https://goodinfo.tw/StockInfo/ShowK_ChartFlow.asp?RPT_CAT=PER&STOCK_ID=2605&CHT_CAT=MONTH\n",
      "https://goodinfo.tw/StockInfo/ShowK_ChartFlow.asp?RPT_CAT=PER&STOCK_ID=5608&CHT_CAT=MONTH\n",
      "https://goodinfo.tw/StockInfo/ShowK_ChartFlow.asp?RPT_CAT=PER&STOCK_ID=2617&CHT_CAT=MONTH\n"
     ]
    }
   ],
   "source": [
    "df_plus=[]\n",
    "for name , code  , url in zip(stock ,stock.values() , url_eps ):\n",
    "    print(url)\n",
    "    data_eps = get_request_eps(url ,headers )\n",
    "    time.sleep(15)\n",
    "    while data_eps is None:\n",
    "        data_eps = get_request_eps(url ,headers )\n",
    "        time.sleep(15)\n",
    "    eps=get_eps(data_eps)\n",
    "    #price的部分需要完成，才可進行eps\\PER的部分\n",
    "    median_price=pd.read_csv(f\"./Data_price/{name}_{code}.csv\",index_col=[\"Unnamed: 0\"]).tail(1).iloc[:,2].values\n",
    "    PER = per_if(float(median_price/eps))\n",
    "    df=pd.DataFrame({\"EPS\":eps ,\"PER_medain_price\":PER} ,index=[month_index]).round(2)\n",
    "    df_plus.append(df)\n",
    "    \n",
    "    \n",
    "    "
   ]
  },
  {
   "cell_type": "code",
   "execution_count": 15,
   "metadata": {},
   "outputs": [],
   "source": [
    "#將新的資訊加入原有的資料中\n",
    "for new ,  key ,name in zip(df_plus  , stock.keys() ,stock.values()) :\n",
    "    #1.新比對月份是否有重複的\n",
    "    old=pd.read_csv(f\"./Data_EPS和PER/{key}_{name}.csv\",index_col=[\"Unnamed: 0\"])#讀入舊的dataFRAME\n",
    "    new_index=int(new.index.values)\n",
    "    old_index=old.tail(1).index.values\n",
    "    if new_index == old_index: \n",
    "        \"\"\"檢查最後ㄧ列的月份是否相同，如相同drop掉，用新的資料\"\"\"\n",
    "        old.drop(index =old_index ,inplace=True )\n",
    "        #2.將新的月份資料結合\n",
    "        new_= pd.concat([old ,new])\n",
    "        \n",
    "    else:\n",
    "         #2.將新的月份資料結合\n",
    "        new_= pd.concat([old ,new])\n",
    "    \n",
    "    new_.to_csv(f\"./Data_EPS和PER/{key}_{name}.csv\")"
   ]
  }
 ],
 "metadata": {
  "kernelspec": {
   "display_name": "Python 3",
   "language": "python",
   "name": "python3"
  },
  "language_info": {
   "codemirror_mode": {
    "name": "ipython",
    "version": 3
   },
   "file_extension": ".py",
   "mimetype": "text/x-python",
   "name": "python",
   "nbconvert_exporter": "python",
   "pygments_lexer": "ipython3",
   "version": "3.8.1"
  }
 },
 "nbformat": 4,
 "nbformat_minor": 4
}
