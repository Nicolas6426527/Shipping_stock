{
 "cells": [
  {
   "cell_type": "code",
   "execution_count": 1,
   "metadata": {},
   "outputs": [],
   "source": [
    "import requests\n",
    "import pandas as pd\n",
    "import numpy as np\n",
    "import time\n",
    "from bs4 import BeautifulSoup\n",
    "import random\n",
    "import os\n",
    "import datetime\n"
   ]
  },
  {
   "cell_type": "code",
   "execution_count": 2,
   "metadata": {},
   "outputs": [],
   "source": [
    "stock ={\"陽明\":\"2609\",\"長榮\":\"2603\",\"萬海\":\"2615\",\"長榮航\":\"2618\",\"遠雄港\":\"5607\",\"華航\":\"2610\",\"台驊投控\":\"2636\",\"裕民\":\"2606\",\n",
    "        \"益航\":\"2601\" ,\"東森\":\"2614\",\"新興\":\"2605\" , \"四維航\":\"5608\" , \"台航\":\"2617\" }\n",
    "month_now =datetime.datetime.strftime(datetime.datetime.today() ,'%Y%m')+\"01\" #現在的月份，url所使用\n",
    "month_index = datetime.datetime.strftime(datetime.datetime.today() ,'%Y%m') #index使用\n",
    "url_price = [f\"https://www.twse.com.tw/exchangeReport/STOCK_DAY?response=html&date={month_now}&stockNo={code}\" for code in stock.values() ]\n"
   ]
  },
  {
   "cell_type": "markdown",
   "metadata": {},
   "source": [
    "### 取每月的最高價、最低價、收盤中位數、成交量中位數"
   ]
  },
  {
   "cell_type": "code",
   "execution_count": 3,
   "metadata": {},
   "outputs": [],
   "source": [
    "#header\n",
    "headers ={\"user-agent\":\"Mozilla/5.0 (Macintosh; Intel Mac OS X 10_15_7) AppleWebKit/537.36 (KHTML, like Gecko) Chrome/90.0.4430.212 Safari/537.36\"}\n"
   ]
  },
  {
   "cell_type": "code",
   "execution_count": 4,
   "metadata": {},
   "outputs": [],
   "source": [
    "def get_request_price(url   ,headers ):\n",
    "    \"\"\"負責request的請求\n",
    "    傳入網址、header(避免反爬蟲機制)\"\"\"\n",
    "    r = requests.get(url, headers=headers )\n",
    "    r.encoding=\"utf-8\"\n",
    "    res = r.text\n",
    "    return res"
   ]
  },
  {
   "cell_type": "code",
   "execution_count": 5,
   "metadata": {},
   "outputs": [],
   "source": [
    "#股價\n",
    "def get_value_price(reponse):\n",
    "    \"\"\"請傳入 rqquest.get(url).text\"\"\"\n",
    "    \n",
    "    \"\"\"return 資料為一個月的數值的四個數值 max_price、min_price、median_price、median的交易筆數 \"\"\"\n",
    "    #使用BeautifulSoup 做解析\n",
    "    from bs4 import BeautifulSoup\n",
    "    soup=BeautifulSoup( reponse ,\"html5lib\")\n",
    "    max_p = []#每日最大的價格的集合（月）\n",
    "    min_p=[]#每日最低的價格的集合（月）\n",
    "    median_p=[]#每日的收盤價格的集合（月）\n",
    "    median_trans_all =[]#每日的交易筆數的集合（月）\n",
    "      \n",
    "    for  tr in soup.find_all(\"tr\")[2:]:\n",
    "        if tr.find_all(\"td\")[4].text == \"--\": #當其中值是等於該“\"--\"符號，跳過本次迴圈\n",
    "            continue\n",
    "    \n",
    "        max_=float(tr.find_all(\"td\")[4].text)#原欄位是當天最高價\n",
    "        min_=float(tr.find_all(\"td\")[5].text)#原欄位是當天最低價\n",
    "        median_=float(tr.find_all(\"td\")[6].text)#原欄位是當天收盤價\n",
    "        median_tran=float(tr.find_all(\"td\")[8].text.replace(\",\",\"\"))#去除逗號、原欄位是當天的交易筆數\n",
    "        max_p.append(max_)\n",
    "        min_p.append(min_)\n",
    "        median_p.append(median_)\n",
    "        median_trans_all.append(median_tran)\n",
    "\n",
    "    max_end =np.max(max_p)#將該當月最高價的list，找出當月的最高價\n",
    "    min_end =np.min(min_p)#將該當月最低價的list，找出當月的最低價\n",
    "    median_price_end=np.median(median_p)#將該當月的收盤價list，找出當月的中位數收盤價\n",
    "    median_tran_end =np.median(median_trans_all)#將該當月最低價的交易筆數list，找出當月的中位數交易筆數\n",
    "    \n",
    "    return  max_end ,  min_end ,  median_price_end ,  median_tran_end"
   ]
  },
  {
   "cell_type": "code",
   "execution_count": 6,
   "metadata": {},
   "outputs": [
    {
     "name": "stdout",
     "output_type": "stream",
     "text": [
      "https://www.twse.com.tw/exchangeReport/STOCK_DAY?response=html&date=20210601&stockNo=2609\n",
      "https://www.twse.com.tw/exchangeReport/STOCK_DAY?response=html&date=20210601&stockNo=2603\n",
      "https://www.twse.com.tw/exchangeReport/STOCK_DAY?response=html&date=20210601&stockNo=2615\n",
      "https://www.twse.com.tw/exchangeReport/STOCK_DAY?response=html&date=20210601&stockNo=2618\n",
      "https://www.twse.com.tw/exchangeReport/STOCK_DAY?response=html&date=20210601&stockNo=5607\n",
      "https://www.twse.com.tw/exchangeReport/STOCK_DAY?response=html&date=20210601&stockNo=2610\n",
      "https://www.twse.com.tw/exchangeReport/STOCK_DAY?response=html&date=20210601&stockNo=2636\n",
      "https://www.twse.com.tw/exchangeReport/STOCK_DAY?response=html&date=20210601&stockNo=2606\n",
      "https://www.twse.com.tw/exchangeReport/STOCK_DAY?response=html&date=20210601&stockNo=2601\n",
      "https://www.twse.com.tw/exchangeReport/STOCK_DAY?response=html&date=20210601&stockNo=2614\n",
      "https://www.twse.com.tw/exchangeReport/STOCK_DAY?response=html&date=20210601&stockNo=2605\n",
      "https://www.twse.com.tw/exchangeReport/STOCK_DAY?response=html&date=20210601&stockNo=5608\n",
      "https://www.twse.com.tw/exchangeReport/STOCK_DAY?response=html&date=20210601&stockNo=2617\n"
     ]
    }
   ],
   "source": [
    "df_plus=[]\n",
    "\n",
    "for url_p  in url_price :\n",
    "    \n",
    "    print(url_p)\n",
    "    res_price = get_request_price(url_p ,headers )\n",
    "    time.sleep(3)\n",
    "\n",
    "    max_end ,  min_end ,  median_price_end ,  median_tran_end=get_value_price(res_price)\n",
    "\n",
    "    df=pd.DataFrame({\"max_price\":max_end,\"min_price\":min_end,\"medain_price\":median_price_end,\n",
    "                      \"medain_transactions\":median_tran_end },index= [month_index]).round(2)\n",
    "    df_plus.append(df)"
   ]
  },
  {
   "cell_type": "code",
   "execution_count": 7,
   "metadata": {},
   "outputs": [],
   "source": [
    "#將新的資訊加入原有的資料中\n",
    "for new ,  key ,name in zip(df_plus  , stock.keys() ,stock.values()) :\n",
    "    #1.新比對月份是否有重複的\n",
    "    old=pd.read_csv(f\"./Data_price/{key}_{name}.csv\",index_col=[\"Unnamed: 0\"])#讀入舊的dataFRAME\n",
    "    new_index=int(new.index.values)\n",
    "    old_index=old.tail(1).index.values\n",
    "    if new_index == old_index: \n",
    "        \"\"\"檢查最後ㄧ列的月份是否相同，如相同drop掉，用新的資料\"\"\"\n",
    "        old.drop(index =old_index ,inplace=True )\n",
    "        #2.將新的月份資料結合\n",
    "        new_= pd.concat([old ,new])\n",
    "        \n",
    "    else:\n",
    "         #2.將新的月份資料結合\n",
    "        new_= pd.concat([old ,new])\n",
    "    \n",
    "    new_.to_csv(f\"./Data_price/{key}_{name}.csv\")\n",
    "        \n",
    "        \n",
    "    "
   ]
  }
 ],
 "metadata": {
  "kernelspec": {
   "display_name": "Python 3",
   "language": "python",
   "name": "python3"
  },
  "language_info": {
   "codemirror_mode": {
    "name": "ipython",
    "version": 3
   },
   "file_extension": ".py",
   "mimetype": "text/x-python",
   "name": "python",
   "nbconvert_exporter": "python",
   "pygments_lexer": "ipython3",
   "version": "3.8.1"
  }
 },
 "nbformat": 4,
 "nbformat_minor": 4
}
